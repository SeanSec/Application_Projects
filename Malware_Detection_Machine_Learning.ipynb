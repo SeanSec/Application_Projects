{
  "cells": [
    {
      "cell_type": "markdown",
      "metadata": {
        "id": "view-in-github",
        "colab_type": "text"
      },
      "source": [
        "<a href=\"https://colab.research.google.com/github/SeanSec/Application_Projects/blob/main/Malware_Detection_Machine_Learning.ipynb\" target=\"_parent\"><img src=\"https://colab.research.google.com/assets/colab-badge.svg\" alt=\"Open In Colab\"/></a>"
      ]
    },
    {
      "cell_type": "markdown",
      "metadata": {
        "id": "Dsv00MMqGT4y"
      },
      "source": [
        "# CS456-Lab 5: Malware Detection using Machine Learning\n",
        "\n"
      ]
    },
    {
      "cell_type": "markdown",
      "metadata": {
        "id": "qJIuSpNaGT4z"
      },
      "source": [
        "#### <font color=green> Student Name: Sean Cobb</font>"
      ]
    },
    {
      "cell_type": "markdown",
      "metadata": {
        "id": "HFhG73k7GT40"
      },
      "source": [
        "The data is from Kaggle `Malware detection with machine learning`\n",
        "https://www.kaggle.com/code/maidaly/malware-detection-with-machine-learning"
      ]
    },
    {
      "cell_type": "markdown",
      "source": [
        "--------------"
      ],
      "metadata": {
        "id": "-d4azshIdgne"
      }
    },
    {
      "cell_type": "markdown",
      "metadata": {
        "id": "4EJKuEqhGT40"
      },
      "source": [
        "# Imports"
      ]
    },
    {
      "cell_type": "code",
      "execution_count": null,
      "metadata": {
        "_cell_guid": "b1076dfc-b9ad-4769-8c92-a6c4dae69d19",
        "_uuid": "8f2839f25d086af736a60e9eeb907d3b93b6e0e5",
        "id": "qCWVH12_GT40"
      },
      "outputs": [],
      "source": [
        "\n",
        "import numpy as np\n",
        "import pandas as pd\n",
        "import pickle\n",
        "import seaborn as sns\n",
        "import matplotlib.pyplot as plt\n",
        "from sklearn.ensemble import RandomForestClassifier\n",
        "from sklearn.model_selection import train_test_split\n",
        "from sklearn.metrics import classification_report, confusion_matrix, RocCurveDisplay\n",
        "\n"
      ]
    },
    {
      "cell_type": "markdown",
      "source": [
        "# Task 1"
      ],
      "metadata": {
        "id": "4OitMKwxMGgt"
      }
    },
    {
      "cell_type": "markdown",
      "source": [
        "### Read and Split data"
      ],
      "metadata": {
        "id": "PiY5h__1m6Hh"
      }
    },
    {
      "cell_type": "code",
      "source": [
        "malware_data = pd.read_csv('MW-Data/dataset_malwares.csv')\n",
        "test_data = pd.read_csv('MW-Data/dataset_test.csv')\n",
        "\n",
        "\n",
        "X_train = malware_data.drop(columns=['Name', 'Machine', 'TimeDateStamp', 'Malware'])\n",
        "y_train = malware_data['Malware']\n",
        "\n",
        "X_test = test_data.drop(columns=['Name', 'Machine', 'TimeDateStamp'])\n",
        "y_test = [0] * X_test.shape[0]"
      ],
      "metadata": {
        "id": "3LZuLdKmm5uF"
      },
      "execution_count": null,
      "outputs": []
    },
    {
      "cell_type": "markdown",
      "source": [
        "### Build Model"
      ],
      "metadata": {
        "id": "O2R2EvPJnEQE"
      }
    },
    {
      "cell_type": "code",
      "source": [
        "rfc2 = RandomForestClassifier(n_estimators=100, random_state=0,\n",
        "                         oob_score = True,\n",
        "                         max_depth = 16)\n",
        "rfc2.fit(X_train, y_train)"
      ],
      "metadata": {
        "colab": {
          "base_uri": "https://localhost:8080/",
          "height": 80
        },
        "id": "CzYmF9PUnLu_",
        "outputId": "1065d12c-3782-4b8c-eed1-2dfa06782187"
      },
      "execution_count": null,
      "outputs": [
        {
          "output_type": "execute_result",
          "data": {
            "text/plain": [
              "RandomForestClassifier(max_depth=16, oob_score=True, random_state=0)"
            ],
            "text/html": [
              "<style>#sk-container-id-2 {\n",
              "  /* Definition of color scheme common for light and dark mode */\n",
              "  --sklearn-color-text: black;\n",
              "  --sklearn-color-line: gray;\n",
              "  /* Definition of color scheme for unfitted estimators */\n",
              "  --sklearn-color-unfitted-level-0: #fff5e6;\n",
              "  --sklearn-color-unfitted-level-1: #f6e4d2;\n",
              "  --sklearn-color-unfitted-level-2: #ffe0b3;\n",
              "  --sklearn-color-unfitted-level-3: chocolate;\n",
              "  /* Definition of color scheme for fitted estimators */\n",
              "  --sklearn-color-fitted-level-0: #f0f8ff;\n",
              "  --sklearn-color-fitted-level-1: #d4ebff;\n",
              "  --sklearn-color-fitted-level-2: #b3dbfd;\n",
              "  --sklearn-color-fitted-level-3: cornflowerblue;\n",
              "\n",
              "  /* Specific color for light theme */\n",
              "  --sklearn-color-text-on-default-background: var(--sg-text-color, var(--theme-code-foreground, var(--jp-content-font-color1, black)));\n",
              "  --sklearn-color-background: var(--sg-background-color, var(--theme-background, var(--jp-layout-color0, white)));\n",
              "  --sklearn-color-border-box: var(--sg-text-color, var(--theme-code-foreground, var(--jp-content-font-color1, black)));\n",
              "  --sklearn-color-icon: #696969;\n",
              "\n",
              "  @media (prefers-color-scheme: dark) {\n",
              "    /* Redefinition of color scheme for dark theme */\n",
              "    --sklearn-color-text-on-default-background: var(--sg-text-color, var(--theme-code-foreground, var(--jp-content-font-color1, white)));\n",
              "    --sklearn-color-background: var(--sg-background-color, var(--theme-background, var(--jp-layout-color0, #111)));\n",
              "    --sklearn-color-border-box: var(--sg-text-color, var(--theme-code-foreground, var(--jp-content-font-color1, white)));\n",
              "    --sklearn-color-icon: #878787;\n",
              "  }\n",
              "}\n",
              "\n",
              "#sk-container-id-2 {\n",
              "  color: var(--sklearn-color-text);\n",
              "}\n",
              "\n",
              "#sk-container-id-2 pre {\n",
              "  padding: 0;\n",
              "}\n",
              "\n",
              "#sk-container-id-2 input.sk-hidden--visually {\n",
              "  border: 0;\n",
              "  clip: rect(1px 1px 1px 1px);\n",
              "  clip: rect(1px, 1px, 1px, 1px);\n",
              "  height: 1px;\n",
              "  margin: -1px;\n",
              "  overflow: hidden;\n",
              "  padding: 0;\n",
              "  position: absolute;\n",
              "  width: 1px;\n",
              "}\n",
              "\n",
              "#sk-container-id-2 div.sk-dashed-wrapped {\n",
              "  border: 1px dashed var(--sklearn-color-line);\n",
              "  margin: 0 0.4em 0.5em 0.4em;\n",
              "  box-sizing: border-box;\n",
              "  padding-bottom: 0.4em;\n",
              "  background-color: var(--sklearn-color-background);\n",
              "}\n",
              "\n",
              "#sk-container-id-2 div.sk-container {\n",
              "  /* jupyter's `normalize.less` sets `[hidden] { display: none; }`\n",
              "     but bootstrap.min.css set `[hidden] { display: none !important; }`\n",
              "     so we also need the `!important` here to be able to override the\n",
              "     default hidden behavior on the sphinx rendered scikit-learn.org.\n",
              "     See: https://github.com/scikit-learn/scikit-learn/issues/21755 */\n",
              "  display: inline-block !important;\n",
              "  position: relative;\n",
              "}\n",
              "\n",
              "#sk-container-id-2 div.sk-text-repr-fallback {\n",
              "  display: none;\n",
              "}\n",
              "\n",
              "div.sk-parallel-item,\n",
              "div.sk-serial,\n",
              "div.sk-item {\n",
              "  /* draw centered vertical line to link estimators */\n",
              "  background-image: linear-gradient(var(--sklearn-color-text-on-default-background), var(--sklearn-color-text-on-default-background));\n",
              "  background-size: 2px 100%;\n",
              "  background-repeat: no-repeat;\n",
              "  background-position: center center;\n",
              "}\n",
              "\n",
              "/* Parallel-specific style estimator block */\n",
              "\n",
              "#sk-container-id-2 div.sk-parallel-item::after {\n",
              "  content: \"\";\n",
              "  width: 100%;\n",
              "  border-bottom: 2px solid var(--sklearn-color-text-on-default-background);\n",
              "  flex-grow: 1;\n",
              "}\n",
              "\n",
              "#sk-container-id-2 div.sk-parallel {\n",
              "  display: flex;\n",
              "  align-items: stretch;\n",
              "  justify-content: center;\n",
              "  background-color: var(--sklearn-color-background);\n",
              "  position: relative;\n",
              "}\n",
              "\n",
              "#sk-container-id-2 div.sk-parallel-item {\n",
              "  display: flex;\n",
              "  flex-direction: column;\n",
              "}\n",
              "\n",
              "#sk-container-id-2 div.sk-parallel-item:first-child::after {\n",
              "  align-self: flex-end;\n",
              "  width: 50%;\n",
              "}\n",
              "\n",
              "#sk-container-id-2 div.sk-parallel-item:last-child::after {\n",
              "  align-self: flex-start;\n",
              "  width: 50%;\n",
              "}\n",
              "\n",
              "#sk-container-id-2 div.sk-parallel-item:only-child::after {\n",
              "  width: 0;\n",
              "}\n",
              "\n",
              "/* Serial-specific style estimator block */\n",
              "\n",
              "#sk-container-id-2 div.sk-serial {\n",
              "  display: flex;\n",
              "  flex-direction: column;\n",
              "  align-items: center;\n",
              "  background-color: var(--sklearn-color-background);\n",
              "  padding-right: 1em;\n",
              "  padding-left: 1em;\n",
              "}\n",
              "\n",
              "\n",
              "/* Toggleable style: style used for estimator/Pipeline/ColumnTransformer box that is\n",
              "clickable and can be expanded/collapsed.\n",
              "- Pipeline and ColumnTransformer use this feature and define the default style\n",
              "- Estimators will overwrite some part of the style using the `sk-estimator` class\n",
              "*/\n",
              "\n",
              "/* Pipeline and ColumnTransformer style (default) */\n",
              "\n",
              "#sk-container-id-2 div.sk-toggleable {\n",
              "  /* Default theme specific background. It is overwritten whether we have a\n",
              "  specific estimator or a Pipeline/ColumnTransformer */\n",
              "  background-color: var(--sklearn-color-background);\n",
              "}\n",
              "\n",
              "/* Toggleable label */\n",
              "#sk-container-id-2 label.sk-toggleable__label {\n",
              "  cursor: pointer;\n",
              "  display: block;\n",
              "  width: 100%;\n",
              "  margin-bottom: 0;\n",
              "  padding: 0.5em;\n",
              "  box-sizing: border-box;\n",
              "  text-align: center;\n",
              "}\n",
              "\n",
              "#sk-container-id-2 label.sk-toggleable__label-arrow:before {\n",
              "  /* Arrow on the left of the label */\n",
              "  content: \"▸\";\n",
              "  float: left;\n",
              "  margin-right: 0.25em;\n",
              "  color: var(--sklearn-color-icon);\n",
              "}\n",
              "\n",
              "#sk-container-id-2 label.sk-toggleable__label-arrow:hover:before {\n",
              "  color: var(--sklearn-color-text);\n",
              "}\n",
              "\n",
              "/* Toggleable content - dropdown */\n",
              "\n",
              "#sk-container-id-2 div.sk-toggleable__content {\n",
              "  max-height: 0;\n",
              "  max-width: 0;\n",
              "  overflow: hidden;\n",
              "  text-align: left;\n",
              "  /* unfitted */\n",
              "  background-color: var(--sklearn-color-unfitted-level-0);\n",
              "}\n",
              "\n",
              "#sk-container-id-2 div.sk-toggleable__content.fitted {\n",
              "  /* fitted */\n",
              "  background-color: var(--sklearn-color-fitted-level-0);\n",
              "}\n",
              "\n",
              "#sk-container-id-2 div.sk-toggleable__content pre {\n",
              "  margin: 0.2em;\n",
              "  border-radius: 0.25em;\n",
              "  color: var(--sklearn-color-text);\n",
              "  /* unfitted */\n",
              "  background-color: var(--sklearn-color-unfitted-level-0);\n",
              "}\n",
              "\n",
              "#sk-container-id-2 div.sk-toggleable__content.fitted pre {\n",
              "  /* unfitted */\n",
              "  background-color: var(--sklearn-color-fitted-level-0);\n",
              "}\n",
              "\n",
              "#sk-container-id-2 input.sk-toggleable__control:checked~div.sk-toggleable__content {\n",
              "  /* Expand drop-down */\n",
              "  max-height: 200px;\n",
              "  max-width: 100%;\n",
              "  overflow: auto;\n",
              "}\n",
              "\n",
              "#sk-container-id-2 input.sk-toggleable__control:checked~label.sk-toggleable__label-arrow:before {\n",
              "  content: \"▾\";\n",
              "}\n",
              "\n",
              "/* Pipeline/ColumnTransformer-specific style */\n",
              "\n",
              "#sk-container-id-2 div.sk-label input.sk-toggleable__control:checked~label.sk-toggleable__label {\n",
              "  color: var(--sklearn-color-text);\n",
              "  background-color: var(--sklearn-color-unfitted-level-2);\n",
              "}\n",
              "\n",
              "#sk-container-id-2 div.sk-label.fitted input.sk-toggleable__control:checked~label.sk-toggleable__label {\n",
              "  background-color: var(--sklearn-color-fitted-level-2);\n",
              "}\n",
              "\n",
              "/* Estimator-specific style */\n",
              "\n",
              "/* Colorize estimator box */\n",
              "#sk-container-id-2 div.sk-estimator input.sk-toggleable__control:checked~label.sk-toggleable__label {\n",
              "  /* unfitted */\n",
              "  background-color: var(--sklearn-color-unfitted-level-2);\n",
              "}\n",
              "\n",
              "#sk-container-id-2 div.sk-estimator.fitted input.sk-toggleable__control:checked~label.sk-toggleable__label {\n",
              "  /* fitted */\n",
              "  background-color: var(--sklearn-color-fitted-level-2);\n",
              "}\n",
              "\n",
              "#sk-container-id-2 div.sk-label label.sk-toggleable__label,\n",
              "#sk-container-id-2 div.sk-label label {\n",
              "  /* The background is the default theme color */\n",
              "  color: var(--sklearn-color-text-on-default-background);\n",
              "}\n",
              "\n",
              "/* On hover, darken the color of the background */\n",
              "#sk-container-id-2 div.sk-label:hover label.sk-toggleable__label {\n",
              "  color: var(--sklearn-color-text);\n",
              "  background-color: var(--sklearn-color-unfitted-level-2);\n",
              "}\n",
              "\n",
              "/* Label box, darken color on hover, fitted */\n",
              "#sk-container-id-2 div.sk-label.fitted:hover label.sk-toggleable__label.fitted {\n",
              "  color: var(--sklearn-color-text);\n",
              "  background-color: var(--sklearn-color-fitted-level-2);\n",
              "}\n",
              "\n",
              "/* Estimator label */\n",
              "\n",
              "#sk-container-id-2 div.sk-label label {\n",
              "  font-family: monospace;\n",
              "  font-weight: bold;\n",
              "  display: inline-block;\n",
              "  line-height: 1.2em;\n",
              "}\n",
              "\n",
              "#sk-container-id-2 div.sk-label-container {\n",
              "  text-align: center;\n",
              "}\n",
              "\n",
              "/* Estimator-specific */\n",
              "#sk-container-id-2 div.sk-estimator {\n",
              "  font-family: monospace;\n",
              "  border: 1px dotted var(--sklearn-color-border-box);\n",
              "  border-radius: 0.25em;\n",
              "  box-sizing: border-box;\n",
              "  margin-bottom: 0.5em;\n",
              "  /* unfitted */\n",
              "  background-color: var(--sklearn-color-unfitted-level-0);\n",
              "}\n",
              "\n",
              "#sk-container-id-2 div.sk-estimator.fitted {\n",
              "  /* fitted */\n",
              "  background-color: var(--sklearn-color-fitted-level-0);\n",
              "}\n",
              "\n",
              "/* on hover */\n",
              "#sk-container-id-2 div.sk-estimator:hover {\n",
              "  /* unfitted */\n",
              "  background-color: var(--sklearn-color-unfitted-level-2);\n",
              "}\n",
              "\n",
              "#sk-container-id-2 div.sk-estimator.fitted:hover {\n",
              "  /* fitted */\n",
              "  background-color: var(--sklearn-color-fitted-level-2);\n",
              "}\n",
              "\n",
              "/* Specification for estimator info (e.g. \"i\" and \"?\") */\n",
              "\n",
              "/* Common style for \"i\" and \"?\" */\n",
              "\n",
              ".sk-estimator-doc-link,\n",
              "a:link.sk-estimator-doc-link,\n",
              "a:visited.sk-estimator-doc-link {\n",
              "  float: right;\n",
              "  font-size: smaller;\n",
              "  line-height: 1em;\n",
              "  font-family: monospace;\n",
              "  background-color: var(--sklearn-color-background);\n",
              "  border-radius: 1em;\n",
              "  height: 1em;\n",
              "  width: 1em;\n",
              "  text-decoration: none !important;\n",
              "  margin-left: 1ex;\n",
              "  /* unfitted */\n",
              "  border: var(--sklearn-color-unfitted-level-1) 1pt solid;\n",
              "  color: var(--sklearn-color-unfitted-level-1);\n",
              "}\n",
              "\n",
              ".sk-estimator-doc-link.fitted,\n",
              "a:link.sk-estimator-doc-link.fitted,\n",
              "a:visited.sk-estimator-doc-link.fitted {\n",
              "  /* fitted */\n",
              "  border: var(--sklearn-color-fitted-level-1) 1pt solid;\n",
              "  color: var(--sklearn-color-fitted-level-1);\n",
              "}\n",
              "\n",
              "/* On hover */\n",
              "div.sk-estimator:hover .sk-estimator-doc-link:hover,\n",
              ".sk-estimator-doc-link:hover,\n",
              "div.sk-label-container:hover .sk-estimator-doc-link:hover,\n",
              ".sk-estimator-doc-link:hover {\n",
              "  /* unfitted */\n",
              "  background-color: var(--sklearn-color-unfitted-level-3);\n",
              "  color: var(--sklearn-color-background);\n",
              "  text-decoration: none;\n",
              "}\n",
              "\n",
              "div.sk-estimator.fitted:hover .sk-estimator-doc-link.fitted:hover,\n",
              ".sk-estimator-doc-link.fitted:hover,\n",
              "div.sk-label-container:hover .sk-estimator-doc-link.fitted:hover,\n",
              ".sk-estimator-doc-link.fitted:hover {\n",
              "  /* fitted */\n",
              "  background-color: var(--sklearn-color-fitted-level-3);\n",
              "  color: var(--sklearn-color-background);\n",
              "  text-decoration: none;\n",
              "}\n",
              "\n",
              "/* Span, style for the box shown on hovering the info icon */\n",
              ".sk-estimator-doc-link span {\n",
              "  display: none;\n",
              "  z-index: 9999;\n",
              "  position: relative;\n",
              "  font-weight: normal;\n",
              "  right: .2ex;\n",
              "  padding: .5ex;\n",
              "  margin: .5ex;\n",
              "  width: min-content;\n",
              "  min-width: 20ex;\n",
              "  max-width: 50ex;\n",
              "  color: var(--sklearn-color-text);\n",
              "  box-shadow: 2pt 2pt 4pt #999;\n",
              "  /* unfitted */\n",
              "  background: var(--sklearn-color-unfitted-level-0);\n",
              "  border: .5pt solid var(--sklearn-color-unfitted-level-3);\n",
              "}\n",
              "\n",
              ".sk-estimator-doc-link.fitted span {\n",
              "  /* fitted */\n",
              "  background: var(--sklearn-color-fitted-level-0);\n",
              "  border: var(--sklearn-color-fitted-level-3);\n",
              "}\n",
              "\n",
              ".sk-estimator-doc-link:hover span {\n",
              "  display: block;\n",
              "}\n",
              "\n",
              "/* \"?\"-specific style due to the `<a>` HTML tag */\n",
              "\n",
              "#sk-container-id-2 a.estimator_doc_link {\n",
              "  float: right;\n",
              "  font-size: 1rem;\n",
              "  line-height: 1em;\n",
              "  font-family: monospace;\n",
              "  background-color: var(--sklearn-color-background);\n",
              "  border-radius: 1rem;\n",
              "  height: 1rem;\n",
              "  width: 1rem;\n",
              "  text-decoration: none;\n",
              "  /* unfitted */\n",
              "  color: var(--sklearn-color-unfitted-level-1);\n",
              "  border: var(--sklearn-color-unfitted-level-1) 1pt solid;\n",
              "}\n",
              "\n",
              "#sk-container-id-2 a.estimator_doc_link.fitted {\n",
              "  /* fitted */\n",
              "  border: var(--sklearn-color-fitted-level-1) 1pt solid;\n",
              "  color: var(--sklearn-color-fitted-level-1);\n",
              "}\n",
              "\n",
              "/* On hover */\n",
              "#sk-container-id-2 a.estimator_doc_link:hover {\n",
              "  /* unfitted */\n",
              "  background-color: var(--sklearn-color-unfitted-level-3);\n",
              "  color: var(--sklearn-color-background);\n",
              "  text-decoration: none;\n",
              "}\n",
              "\n",
              "#sk-container-id-2 a.estimator_doc_link.fitted:hover {\n",
              "  /* fitted */\n",
              "  background-color: var(--sklearn-color-fitted-level-3);\n",
              "}\n",
              "</style><div id=\"sk-container-id-2\" class=\"sk-top-container\"><div class=\"sk-text-repr-fallback\"><pre>RandomForestClassifier(max_depth=16, oob_score=True, random_state=0)</pre><b>In a Jupyter environment, please rerun this cell to show the HTML representation or trust the notebook. <br />On GitHub, the HTML representation is unable to render, please try loading this page with nbviewer.org.</b></div><div class=\"sk-container\" hidden><div class=\"sk-item\"><div class=\"sk-estimator fitted sk-toggleable\"><input class=\"sk-toggleable__control sk-hidden--visually\" id=\"sk-estimator-id-2\" type=\"checkbox\" checked><label for=\"sk-estimator-id-2\" class=\"sk-toggleable__label fitted sk-toggleable__label-arrow fitted\">&nbsp;&nbsp;RandomForestClassifier<a class=\"sk-estimator-doc-link fitted\" rel=\"noreferrer\" target=\"_blank\" href=\"https://scikit-learn.org/1.5/modules/generated/sklearn.ensemble.RandomForestClassifier.html\">?<span>Documentation for RandomForestClassifier</span></a><span class=\"sk-estimator-doc-link fitted\">i<span>Fitted</span></span></label><div class=\"sk-toggleable__content fitted\"><pre>RandomForestClassifier(max_depth=16, oob_score=True, random_state=0)</pre></div> </div></div></div></div>"
            ]
          },
          "metadata": {},
          "execution_count": 23
        }
      ]
    },
    {
      "cell_type": "markdown",
      "source": [
        "### Test and Classification Report"
      ],
      "metadata": {
        "id": "46D8t1lpnTsV"
      }
    },
    {
      "cell_type": "code",
      "source": [
        "y_pred = rfc2.predict(X_test)\n",
        "\n",
        "\n",
        "print(classification_report(y_test, y_pred, target_names=['Benign', 'Malware']))"
      ],
      "metadata": {
        "id": "WLAYWiqvLGc6",
        "colab": {
          "base_uri": "https://localhost:8080/"
        },
        "outputId": "3c001df2-6be1-4a60-93cd-d43cb84cfff5"
      },
      "execution_count": null,
      "outputs": [
        {
          "output_type": "stream",
          "name": "stdout",
          "text": [
            "              precision    recall  f1-score   support\n",
            "\n",
            "      Benign       1.00      0.24      0.38        17\n",
            "     Malware       0.00      0.00      0.00         0\n",
            "\n",
            "    accuracy                           0.24        17\n",
            "   macro avg       0.50      0.12      0.19        17\n",
            "weighted avg       1.00      0.24      0.38        17\n",
            "\n"
          ]
        }
      ]
    },
    {
      "cell_type": "markdown",
      "source": [
        "### Confusion Matrix"
      ],
      "metadata": {
        "id": "rhOhfKgRndvm"
      }
    },
    {
      "cell_type": "code",
      "source": [
        "ax=sns.heatmap(confusion_matrix(y_test, y_pred), annot=True, fmt=\"d\", cmap=plt.cm.Blues, cbar=False)\n",
        "ax.set_xlabel('Predicted labels')\n",
        "ax.set_ylabel('True labels')"
      ],
      "metadata": {
        "colab": {
          "base_uri": "https://localhost:8080/",
          "height": 466
        },
        "id": "ZJ4GMp5Lkwp6",
        "outputId": "d3cc8b40-ab4f-48be-ee28-93b41648f12d"
      },
      "execution_count": null,
      "outputs": [
        {
          "output_type": "execute_result",
          "data": {
            "text/plain": [
              "Text(50.722222222222214, 0.5, 'True labels')"
            ]
          },
          "metadata": {},
          "execution_count": 25
        },
        {
          "output_type": "display_data",
          "data": {
            "text/plain": [
              "<Figure size 640x480 with 1 Axes>"
            ],
            "image/png": "[encoded data removed]"
          },
          "metadata": {}
        }
      ]
    },
    {
      "cell_type": "markdown",
      "source": [
        "### Conclusion\n",
        "\n",
        "- The model proved very innaccurate (Accuracy = 24%)\n",
        "  - This is likely due to being trained on an imbalanced dataset with a majority of the samples being malicious, then tested on a dataset with only benign samples. This result shows signs of overfitting in our model leaning heavily towards malicious.\n",
        "- The precision numbers show us that we have no false negatives for classifying benign examples\n",
        "  - This is expected, as there are no malicious samples. We did observe that a majority of the predicted outcomes were false positives, i.e. classifying benign samples incorrectly as malicious samples. Again this is most likely due to overfitting of the data in training our model.\n",
        "- Training and testing on both datasets may be better\n",
        "  - Training and testing on each dataset individually may lead to better results with less overfitting"
      ],
      "metadata": {
        "id": "ifhRKaHrPzU8"
      }
    },
    {
      "cell_type": "markdown",
      "source": [
        "-----"
      ],
      "metadata": {
        "id": "jSQR7XvYMNrc"
      }
    },
    {
      "cell_type": "markdown",
      "source": [
        "# Task 2"
      ],
      "metadata": {
        "id": "DFlywSW2MV9V"
      }
    },
    {
      "cell_type": "markdown",
      "source": [
        "### Import Classifiers"
      ],
      "metadata": {
        "id": "lul9eZBsqS7q"
      }
    },
    {
      "cell_type": "code",
      "source": [
        "from sklearn.neighbors import KNeighborsClassifier\n",
        "from sklearn.svm import SVC\n",
        "from sklearn.svm import LinearSVC\n",
        "from sklearn.neural_network import MLPClassifier"
      ],
      "metadata": {
        "id": "uS6vkv51qSn7"
      },
      "execution_count": null,
      "outputs": []
    },
    {
      "cell_type": "markdown",
      "source": [
        "### Prepare data\n",
        "I talked to the professor and after showing him the low accuracy on task 1 he suggested I combine both datasets or make a test train split for each. I opted to combine the datsets and make a test train split for it."
      ],
      "metadata": {
        "id": "3JXld9I7okjF"
      }
    },
    {
      "cell_type": "code",
      "source": [
        "test_data['Malware'] = 0\n",
        "combo_data = pd.concat([malware_data, test_data], ignore_index=True)\n",
        "\n",
        "combo_X = combo_data.drop(columns=['Name', 'Machine', 'TimeDateStamp', 'Malware'])\n",
        "combo_y = combo_data['Malware']"
      ],
      "metadata": {
        "id": "uGfzSrnyMZed"
      },
      "execution_count": null,
      "outputs": []
    },
    {
      "cell_type": "markdown",
      "source": [
        "### Split Data"
      ],
      "metadata": {
        "id": "76LwkK_Mo_LP"
      }
    },
    {
      "cell_type": "code",
      "source": [
        "X_train, X_test, y_train, y_test = train_test_split(combo_X, combo_y, test_size=0.2, random_state=0)"
      ],
      "metadata": {
        "id": "IGCez3iGpCCP"
      },
      "execution_count": null,
      "outputs": []
    },
    {
      "cell_type": "markdown",
      "source": [
        "### K-Neighbor Classifier"
      ],
      "metadata": {
        "id": "ogcV7MCtpuBN"
      }
    },
    {
      "cell_type": "markdown",
      "source": [
        "#### Create, fit, and predict"
      ],
      "metadata": {
        "id": "6I0fmS8Nq10-"
      }
    },
    {
      "cell_type": "code",
      "source": [
        "knn = KNeighborsClassifier(n_neighbors=5)\n",
        "knn.fit(X_train, y_train)\n",
        "\n",
        "knn_y_pred = knn.predict(X_test)"
      ],
      "metadata": {
        "id": "dPxj98HJp9F2"
      },
      "execution_count": null,
      "outputs": []
    },
    {
      "cell_type": "markdown",
      "source": [
        "#### Classification Report"
      ],
      "metadata": {
        "id": "i5USWK14rJzr"
      }
    },
    {
      "cell_type": "code",
      "source": [
        "print(classification_report(y_test, knn_y_pred, target_names=['Benign', 'Malware']))"
      ],
      "metadata": {
        "colab": {
          "base_uri": "https://localhost:8080/"
        },
        "id": "NjgaJ0QwrihV",
        "outputId": "8ae9cc50-11ce-44e4-e4d4-9a517ebaee43"
      },
      "execution_count": null,
      "outputs": [
        {
          "output_type": "stream",
          "name": "stdout",
          "text": [
            "              precision    recall  f1-score   support\n",
            "\n",
            "      Benign       0.94      0.91      0.93      1034\n",
            "     Malware       0.97      0.98      0.97      2892\n",
            "\n",
            "    accuracy                           0.96      3926\n",
            "   macro avg       0.96      0.95      0.95      3926\n",
            "weighted avg       0.96      0.96      0.96      3926\n",
            "\n"
          ]
        }
      ]
    },
    {
      "cell_type": "markdown",
      "source": [
        "#### Confusion Matrix"
      ],
      "metadata": {
        "id": "MvZ2n8LxruHZ"
      }
    },
    {
      "cell_type": "code",
      "source": [
        "ax=sns.heatmap(confusion_matrix(y_test, knn_y_pred), annot=True, fmt=\"d\", cmap=plt.cm.Blues, cbar=False)\n",
        "ax.set_xlabel('Predicted labels')\n",
        "ax.set_ylabel('True labels')"
      ],
      "metadata": {
        "colab": {
          "base_uri": "https://localhost:8080/",
          "height": 466
        },
        "id": "AChcpRuvrx-d",
        "outputId": "b6eeb6ae-7073-4de2-950a-c5855c786cca"
      },
      "execution_count": null,
      "outputs": [
        {
          "output_type": "execute_result",
          "data": {
            "text/plain": [
              "Text(50.722222222222214, 0.5, 'True labels')"
            ]
          },
          "metadata": {},
          "execution_count": 31
        },
        {
          "output_type": "display_data",
          "data": {
            "text/plain": [
              "<Figure size 640x480 with 1 Axes>"
            ],
            "image/png": "[encoded data removed]"
          },
          "metadata": {}
        }
      ]
    },
    {
      "cell_type": "markdown",
      "source": [
        "### Support Vector Classifier"
      ],
      "metadata": {
        "id": "Qlnuapd9p91Z"
      }
    },
    {
      "cell_type": "markdown",
      "source": [
        "#### Create, fit, and predict\n",
        "I decided to go with a Linear SVC after watching the regular SVC take nearly 10 minutes to try and fit the data."
      ],
      "metadata": {
        "id": "_jxb3wJMRAg2"
      }
    },
    {
      "cell_type": "code",
      "source": [
        "svc = LinearSVC(C=1.0, max_iter=1000, random_state=0)\n",
        "svc.fit(X_train, y_train)\n",
        "\n",
        "svc_y_pred = svc.predict(X_test)"
      ],
      "metadata": {
        "id": "RavTdkLgqD6B"
      },
      "execution_count": null,
      "outputs": []
    },
    {
      "cell_type": "markdown",
      "source": [
        "#### Classification Report"
      ],
      "metadata": {
        "id": "X-QV7szPRGrU"
      }
    },
    {
      "cell_type": "code",
      "source": [
        "print(classification_report(y_test, svc_y_pred, target_names=['Benign', 'Malware']))"
      ],
      "metadata": {
        "colab": {
          "base_uri": "https://localhost:8080/"
        },
        "id": "ZtHmbKhKOZjZ",
        "outputId": "7061bf82-f3e0-468b-e315-0753de26e8cf"
      },
      "execution_count": null,
      "outputs": [
        {
          "output_type": "stream",
          "name": "stdout",
          "text": [
            "              precision    recall  f1-score   support\n",
            "\n",
            "      Benign       0.95      0.02      0.04      1034\n",
            "     Malware       0.74      1.00      0.85      2892\n",
            "\n",
            "    accuracy                           0.74      3926\n",
            "   macro avg       0.85      0.51      0.44      3926\n",
            "weighted avg       0.80      0.74      0.64      3926\n",
            "\n"
          ]
        }
      ]
    },
    {
      "cell_type": "markdown",
      "source": [
        "#### Confusion Matrix"
      ],
      "metadata": {
        "id": "nsr6uxkNRLwY"
      }
    },
    {
      "cell_type": "code",
      "source": [
        "ax=sns.heatmap(confusion_matrix(y_test, svc_y_pred), annot=True, fmt=\"d\", cmap=plt.cm.Blues, cbar=False)\n",
        "ax.set_xlabel('Predicted labels')\n",
        "ax.set_ylabel('True labels')"
      ],
      "metadata": {
        "colab": {
          "base_uri": "https://localhost:8080/",
          "height": 466
        },
        "id": "j-yuP6-7Ob2N",
        "outputId": "7ef33613-724a-480a-f77e-e3d8e6bb827c"
      },
      "execution_count": null,
      "outputs": [
        {
          "output_type": "execute_result",
          "data": {
            "text/plain": [
              "Text(50.722222222222214, 0.5, 'True labels')"
            ]
          },
          "metadata": {},
          "execution_count": 34
        },
        {
          "output_type": "display_data",
          "data": {
            "text/plain": [
              "<Figure size 640x480 with 1 Axes>"
            ],
            "image/png": "[encoded data removed]"
          },
          "metadata": {}
        }
      ]
    },
    {
      "cell_type": "markdown",
      "source": [
        "### Multi-Layer Perceptron Classifier"
      ],
      "metadata": {
        "id": "z5yAu7jSqEu9"
      }
    },
    {
      "cell_type": "markdown",
      "source": [
        "#### Create, fit, and predict"
      ],
      "metadata": {
        "id": "vyQfN_EQRCgi"
      }
    },
    {
      "cell_type": "code",
      "source": [
        "mlp = MLPClassifier(hidden_layer_sizes=(200, 100), max_iter=1000, random_state=0)\n",
        "mlp.fit(X_train, y_train)\n",
        "\n",
        "mlp_y_pred = mlp.predict(X_test)"
      ],
      "metadata": {
        "id": "KB4NCfW0qLDk"
      },
      "execution_count": null,
      "outputs": []
    },
    {
      "cell_type": "markdown",
      "source": [
        "#### Classification Report"
      ],
      "metadata": {
        "id": "5vemvpDGRIHZ"
      }
    },
    {
      "cell_type": "code",
      "source": [
        "print(classification_report(y_test, mlp_y_pred, target_names=['Benign', 'Malware']))"
      ],
      "metadata": {
        "colab": {
          "base_uri": "https://localhost:8080/"
        },
        "id": "ysR0GxmtQJrp",
        "outputId": "042112f6-f829-4443-aecc-f9b9c13503d6"
      },
      "execution_count": null,
      "outputs": [
        {
          "output_type": "stream",
          "name": "stdout",
          "text": [
            "              precision    recall  f1-score   support\n",
            "\n",
            "      Benign       0.76      0.75      0.75      1034\n",
            "     Malware       0.91      0.92      0.91      2892\n",
            "\n",
            "    accuracy                           0.87      3926\n",
            "   macro avg       0.84      0.83      0.83      3926\n",
            "weighted avg       0.87      0.87      0.87      3926\n",
            "\n"
          ]
        }
      ]
    },
    {
      "cell_type": "markdown",
      "source": [
        "#### Confusion Matrix"
      ],
      "metadata": {
        "id": "WA5XXCTkRNMg"
      }
    },
    {
      "cell_type": "code",
      "source": [
        "ax=sns.heatmap(confusion_matrix(y_test, mlp_y_pred), annot=True, fmt=\"d\", cmap=plt.cm.Blues, cbar=False)\n",
        "ax.set_xlabel('Predicted labels')\n",
        "ax.set_ylabel('True labels')"
      ],
      "metadata": {
        "colab": {
          "base_uri": "https://localhost:8080/",
          "height": 466
        },
        "id": "gFtlcyyZQMSO",
        "outputId": "b8888f32-8c25-4c41-d82c-c2d5ddb5f542"
      },
      "execution_count": null,
      "outputs": [
        {
          "output_type": "execute_result",
          "data": {
            "text/plain": [
              "Text(50.722222222222214, 0.5, 'True labels')"
            ]
          },
          "metadata": {},
          "execution_count": 37
        },
        {
          "output_type": "display_data",
          "data": {
            "text/plain": [
              "<Figure size 640x480 with 1 Axes>"
            ],
            "image/png": "[encoded data removed]"
          },
          "metadata": {}
        }
      ]
    },
    {
      "cell_type": "markdown",
      "source": [
        "### Conclusion\n",
        "- K-Neighbor Classifier\n",
        "  - Had the greatest accuracy of any models 96%.\n",
        "  - More likely to classify incorrectly as a false positive than a false negative.\n",
        "  - Higher precision of identifying malware than benign samples. This is likely due to the higher percentage of malware samples.\n",
        "- Linear Support Vector Classifier\n",
        "  - Least accurate of the 3 models 74%.\n",
        "  - Significantly higher precision of recognizing benign samples versus malware samples. Not sure why this happened, but it's interesting.\n",
        "  - Incredibly high rate of misidentifying false positives. Inversely, had the lowest amount of false negatives of any model (Rand Forest Classifier included) with only one false positive.\n",
        "- Multi-Layer Perceptron Classifier\n",
        "  - Middle of the pack in terms of accuracy 87%.\n",
        "  - Significantly more precise when predicting malware versus benign samples. Could be explained by the higher percentage of malware samples in the datset.\n",
        "  - Nearly identical rate of false postives and negatives.\n",
        "- Overall\n",
        "  - Combining the datasets improved the performance of the model significantly, as oppossed to training on the malware/mix dataset and testing on the purely benign datset.\n",
        "  - Interestingly, the LinearSVC had the lowest amount of false negatives by a significant margin. Since classifying a false negative is the worst thing one of the classifiers could do (considering the context of identifying malware) it does lend credence to the plausibility of the SVC potentially being the optimal model so far."
      ],
      "metadata": {
        "id": "LoIPjuFpRaa2"
      }
    },
    {
      "cell_type": "markdown",
      "source": [
        "-----"
      ],
      "metadata": {
        "id": "UUwyJFFEMadG"
      }
    },
    {
      "cell_type": "markdown",
      "source": [
        "# Task 3"
      ],
      "metadata": {
        "id": "OXmx7K4zO0vD"
      }
    },
    {
      "cell_type": "markdown",
      "source": [
        "### Imports"
      ],
      "metadata": {
        "id": "98-WHVS-59Rc"
      }
    },
    {
      "cell_type": "code",
      "source": [
        "from sklearn.cluster import KMeans\n",
        "from sklearn.mixture import GaussianMixture\n",
        "from sklearn.preprocessing import StandardScaler\n",
        "from sklearn.decomposition import PCA"
      ],
      "metadata": {
        "id": "iEjdR7vZO3ij"
      },
      "execution_count": null,
      "outputs": []
    },
    {
      "cell_type": "markdown",
      "source": [
        "## K-Means Clustering"
      ],
      "metadata": {
        "id": "OxkTATLwWfPs"
      }
    },
    {
      "cell_type": "code",
      "source": [
        "X = malware_data.drop(columns=['Name', 'Machine', 'TimeDateStamp', 'Malware'])\n",
        "y = malware_data['Malware']"
      ],
      "metadata": {
        "id": "4m9Um77xWkbn"
      },
      "execution_count": null,
      "outputs": []
    },
    {
      "cell_type": "markdown",
      "source": [
        "#### Scaling and Dimensional Reduction\n",
        "\n",
        "Clustering models perform poorly on datasets with a large number of features. I tried before and reached a peak accuracy of 24%. Thus, I decided I need scale the features, and reduce the feature space to the most primary components. I tested for the optimal amount of principal components, but that came out with 46 components. This did not turn into realistic results. Thus, through more testing I reached a peak accuracy with 12 principal components."
      ],
      "metadata": {
        "id": "OJfATqtm6mDC"
      }
    },
    {
      "cell_type": "code",
      "source": [
        "scaler = StandardScaler()\n",
        "X_scaled = scaler.fit_transform(X)\n",
        "\n",
        "pca = PCA(n_components=12)\n",
        "X_pca = pca.fit_transform(X_scaled)"
      ],
      "metadata": {
        "id": "2bQoMV0m6a-f"
      },
      "execution_count": null,
      "outputs": []
    },
    {
      "cell_type": "markdown",
      "source": [
        "#### Building and fitting cluster model\n",
        "Through futher testing with clusters I concluded that the optimal amount of clusters to use was 5. The standard classification report we were formerly using does not allow anything other than 2 clusters, which lowers our accuracy. I left an original classification report in for you to test if you so choose."
      ],
      "metadata": {
        "id": "zD9gMm8O8Ccq"
      }
    },
    {
      "cell_type": "code",
      "source": [
        "kmeans = KMeans(n_clusters=5, random_state=0)\n",
        "kmeans.fit(X_pca)\n",
        "\n",
        "kmeans_y_pred = kmeans.predict(X_pca)"
      ],
      "metadata": {
        "id": "OJ5VGSII4cpI"
      },
      "execution_count": null,
      "outputs": []
    },
    {
      "cell_type": "code",
      "source": [
        "#print(classification_report(y, kmeans_y_pred, target_names=['Benign', 'Malware']))"
      ],
      "metadata": {
        "id": "vW-t21qJ7ni8"
      },
      "execution_count": null,
      "outputs": []
    },
    {
      "cell_type": "markdown",
      "source": [
        "#### Mapping clusters through confusion matrix\n",
        "Thus, to fix this issue and increase accuracy I used an initial confusion matrix to reduce down to 2 clusters and improve accuracy. The mapped prediction finds which labels imply benign and which imply malware, then changing the labels accordingly."
      ],
      "metadata": {
        "id": "_F0nKAWf8lj8"
      }
    },
    {
      "cell_type": "code",
      "source": [
        "temp_conf_matrix = confusion_matrix(y, kmeans_y_pred)\n",
        "map_y_pred = np.where(kmeans_y_pred == temp_conf_matrix[0, 1].argmax(), 1, 0)"
      ],
      "metadata": {
        "id": "fnJNMzIp6jGU"
      },
      "execution_count": null,
      "outputs": []
    },
    {
      "cell_type": "markdown",
      "source": [
        "#### Classification report\n",
        "This increased my accuracy significantly."
      ],
      "metadata": {
        "id": "0BWGuz4i_Xnz"
      }
    },
    {
      "cell_type": "code",
      "source": [
        "print(classification_report(y, map_y_pred, target_names=['Benign', 'Malware']))"
      ],
      "metadata": {
        "colab": {
          "base_uri": "https://localhost:8080/"
        },
        "id": "Rd1W26NVXG7s",
        "outputId": "1b1cafc4-7a86-4f81-cd5f-eb26360163ac"
      },
      "execution_count": null,
      "outputs": [
        {
          "output_type": "stream",
          "name": "stdout",
          "text": [
            "              precision    recall  f1-score   support\n",
            "\n",
            "      Benign       0.69      0.30      0.42      5012\n",
            "     Malware       0.80      0.95      0.87     14599\n",
            "\n",
            "    accuracy                           0.79     19611\n",
            "   macro avg       0.75      0.63      0.64     19611\n",
            "weighted avg       0.77      0.79      0.75     19611\n",
            "\n"
          ]
        }
      ]
    },
    {
      "cell_type": "markdown",
      "source": [
        "#### Confusion matrix"
      ],
      "metadata": {
        "id": "0wm0fpQJBXPl"
      }
    },
    {
      "cell_type": "code",
      "source": [
        "ax=sns.heatmap(confusion_matrix(y, map_y_pred), annot=True, fmt=\"d\", cmap=plt.cm.Blues, cbar=False)\n",
        "ax.set_xlabel('Predicted labels')\n",
        "ax.set_ylabel('True labels')"
      ],
      "metadata": {
        "id": "0LcTWIujXKhQ",
        "colab": {
          "base_uri": "https://localhost:8080/",
          "height": 466
        },
        "outputId": "c29b5fc6-8cd0-4ff2-c4a9-177ba09227bc"
      },
      "execution_count": null,
      "outputs": [
        {
          "output_type": "execute_result",
          "data": {
            "text/plain": [
              "Text(50.722222222222214, 0.5, 'True labels')"
            ]
          },
          "metadata": {},
          "execution_count": 82
        },
        {
          "output_type": "display_data",
          "data": {
            "text/plain": [
              "<Figure size 640x480 with 1 Axes>"
            ],
            "image/png": "[encoded data removed]"
          },
          "metadata": {}
        }
      ]
    },
    {
      "cell_type": "markdown",
      "source": [
        "## Gaussian Mixture Clustering"
      ],
      "metadata": {
        "id": "dxt6BVdemJA9"
      }
    },
    {
      "cell_type": "markdown",
      "source": [
        "#### Building and fitting cluster model"
      ],
      "metadata": {
        "id": "nPT5GwxOBb7f"
      }
    },
    {
      "cell_type": "code",
      "source": [
        "gmm = GaussianMixture(n_components=5, random_state=0)\n",
        "gmm.fit(X_pca)\n",
        "\n",
        "gmm_y_pred = gmm.predict(X_pca)"
      ],
      "metadata": {
        "id": "PxzHou5_mMcy"
      },
      "execution_count": null,
      "outputs": []
    },
    {
      "cell_type": "markdown",
      "source": [
        "#### Mapping components through confusion matrix"
      ],
      "metadata": {
        "id": "JlwzUjPRBlf1"
      }
    },
    {
      "cell_type": "code",
      "source": [
        "temp_conf_matrix = confusion_matrix(y, gmm_y_pred)\n",
        "map_y_pred = np.where(gmm_y_pred == temp_conf_matrix[0, 1].argmax(), 1, 0)"
      ],
      "metadata": {
        "id": "MiptU4aqAC-Z"
      },
      "execution_count": null,
      "outputs": []
    },
    {
      "cell_type": "markdown",
      "source": [
        "#### Classification Report"
      ],
      "metadata": {
        "id": "RXMR4jZFBoKO"
      }
    },
    {
      "cell_type": "code",
      "source": [
        "print(classification_report(y, map_y_pred, target_names=['Benign', 'Malware']))"
      ],
      "metadata": {
        "colab": {
          "base_uri": "https://localhost:8080/"
        },
        "id": "N42GctR4mXUr",
        "outputId": "f0d35cb1-7123-41ce-ee3b-5bc80e3ba991"
      },
      "execution_count": null,
      "outputs": [
        {
          "output_type": "stream",
          "name": "stdout",
          "text": [
            "              precision    recall  f1-score   support\n",
            "\n",
            "      Benign       0.51      0.36      0.42      5012\n",
            "     Malware       0.80      0.88      0.84     14599\n",
            "\n",
            "    accuracy                           0.75     19611\n",
            "   macro avg       0.65      0.62      0.63     19611\n",
            "weighted avg       0.73      0.75      0.73     19611\n",
            "\n"
          ]
        }
      ]
    },
    {
      "cell_type": "markdown",
      "source": [
        "#### Confusion Matrix"
      ],
      "metadata": {
        "id": "Z4Bxp6vBBq8R"
      }
    },
    {
      "cell_type": "code",
      "source": [
        "ax=sns.heatmap(confusion_matrix(y, map_y_pred), annot=True, fmt=\"d\", cmap=plt.cm.Blues, cbar=False)\n",
        "ax.set_xlabel('Predicted labels')\n",
        "ax.set_ylabel('True labels')"
      ],
      "metadata": {
        "colab": {
          "base_uri": "https://localhost:8080/",
          "height": 466
        },
        "id": "VpuGuI1kAnqC",
        "outputId": "79196676-9c8b-4931-ca04-2bdd038f18bd"
      },
      "execution_count": null,
      "outputs": [
        {
          "output_type": "execute_result",
          "data": {
            "text/plain": [
              "Text(50.722222222222214, 0.5, 'True labels')"
            ]
          },
          "metadata": {},
          "execution_count": 111
        },
        {
          "output_type": "display_data",
          "data": {
            "text/plain": [
              "<Figure size 640x480 with 1 Axes>"
            ],
            "image/png": "[encoded data removed]"
          },
          "metadata": {}
        }
      ]
    },
    {
      "cell_type": "markdown",
      "source": [
        "## Conclusions\n",
        "- K-Means Clustering\n",
        "  - Accuracy was inhibited by the spread of the data caused by a large amount of data features. Still, the maximum accuracy I was able to reach was decent, but never reached the levels of my classification models. 79%\n",
        "  - Significantly better at recalling malware, but not very good at recognizing benign samples. F1 scores were halved for benign samples. This could be compunded by the overfitting of malware samples, and large amount of features.\n",
        "  - Over double the number of false positives than true negatives, but far less false negatives which is very good.\n",
        "- Gaussian Mixture Clustering\n",
        "  - Accuracy was similar to our K-means model, but performed worse overall. 75%\n",
        "  - Was identical to K-means model in identifying malware, but performed 18% worse when attempting to identify benign samples. I'm unsure why this is so different between the two models and will have to investigate this further.\n",
        "  - There were far more false negatives with this model than there were in our K-means model. This inhibits this model from any possibility of performing as this is the most dangerous mistake our model can make and it is over 2 times more likely to misclassify samples in this manner.\n",
        "- Overall\n",
        "  - Our clusters may perform better on smaller less complex data. even when scaling and reducing the dimensionality of this data the models performed at best to an average performance. These models are not as good as most of our classifiers and still the Random Forest Classifier was our best model."
      ],
      "metadata": {
        "id": "F4-zYnlDB0FH"
      }
    }
  ],
  "metadata": {
    "kernelspec": {
      "display_name": "Python 3",
      "name": "python3"
    },
    "language_info": {
      "codemirror_mode": {
        "name": "ipython",
        "version": 3
      },
      "file_extension": ".py",
      "mimetype": "text/x-python",
      "name": "python",
      "nbconvert_exporter": "python",
      "pygments_lexer": "ipython3",
      "version": "3.10.6"
    },
    "colab": {
      "provenance": [],
      "gpuType": "T4",
      "include_colab_link": true
    },
    "accelerator": "GPU"
  },
  "nbformat": 4,
  "nbformat_minor": 0
}